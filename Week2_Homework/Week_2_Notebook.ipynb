{
 "cells": [
  {
   "cell_type": "code",
   "execution_count": 35,
   "id": "4e98e678",
   "metadata": {},
   "outputs": [],
   "source": [
    "#!pip install mlflow"
   ]
  },
  {
   "cell_type": "code",
   "execution_count": 5,
   "id": "16455740",
   "metadata": {},
   "outputs": [
    {
     "name": "stdout",
     "output_type": "stream",
     "text": [
      "mlflow, version 2.3.2\n"
     ]
    }
   ],
   "source": [
    "!mlflow --version"
   ]
  },
  {
   "cell_type": "code",
   "execution_count": 37,
   "id": "b58327cc",
   "metadata": {},
   "outputs": [],
   "source": [
    "#after test.py \n",
    "#mlflow server to start the server"
   ]
  },
  {
   "cell_type": "code",
   "execution_count": null,
   "id": "9363a2fc",
   "metadata": {},
   "outputs": [],
   "source": []
  },
  {
   "cell_type": "code",
   "execution_count": 34,
   "id": "05e46efe",
   "metadata": {},
   "outputs": [
    {
     "name": "stdout",
     "output_type": "stream",
     "text": [
      "Run IDs within the experiment: ['9912aad90c184c40a45e3869af3cd8f0', 'd84e5b25bd664fb1aca2b60e290d054b', '5ca55b91ec244137b76a29ec89b35e3b']\n"
     ]
    }
   ],
   "source": [
    "from mlflow.tracking import MlflowClient\n",
    "\n",
    "client = MlflowClient()\n",
    "runs = client.search_runs(experiment_ids='0')\n",
    "run_ids = [run.info.run_id for run in runs]\n",
    "print(\"Run IDs within the experiment:\", run_ids)"
   ]
  },
  {
   "cell_type": "code",
   "execution_count": 18,
   "id": "baef8f1e",
   "metadata": {},
   "outputs": [
    {
     "name": "stdout",
     "output_type": "stream",
     "text": [
      "Available metrics: dict_keys(['accuracy'])\n"
     ]
    }
   ],
   "source": [
    "print(\"Available metrics:\", run.data.metrics.keys())"
   ]
  },
  {
   "cell_type": "code",
   "execution_count": 33,
   "id": "31c346f6",
   "metadata": {},
   "outputs": [
    {
     "data": {
      "text/plain": [
       "2.453983836538874"
      ]
     },
     "execution_count": 33,
     "metadata": {},
     "output_type": "execute_result"
    }
   ],
   "source": [
    "from mlflow.tracking import MlflowClient\n",
    "client = MlflowClient()\n",
    "runs = client.search_runs(experiment_ids='0', order_by=['metrics.RMSE ASC'], max_results=1)\n",
    "lowest_rmse_run = runs[0]\n",
    "test_rmse = lowest_rmse_run.data.metrics['accuracy']\n",
    "test_rmse"
   ]
  },
  {
   "cell_type": "code",
   "execution_count": null,
   "id": "fb14ea0f",
   "metadata": {},
   "outputs": [],
   "source": []
  }
 ],
 "metadata": {
  "kernelspec": {
   "display_name": "Python 3 (ipykernel)",
   "language": "python",
   "name": "python3"
  },
  "language_info": {
   "codemirror_mode": {
    "name": "ipython",
    "version": 3
   },
   "file_extension": ".py",
   "mimetype": "text/x-python",
   "name": "python",
   "nbconvert_exporter": "python",
   "pygments_lexer": "ipython3",
   "version": "3.9.12"
  }
 },
 "nbformat": 4,
 "nbformat_minor": 5
}
